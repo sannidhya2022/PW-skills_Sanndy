{
  "nbformat": 4,
  "nbformat_minor": 0,
  "metadata": {
    "colab": {
      "provenance": []
    },
    "kernelspec": {
      "name": "python3",
      "display_name": "Python 3"
    },
    "language_info": {
      "name": "python"
    }
  },
  "cells": [
    {
      "cell_type": "markdown",
      "source": [
        "Question 1: "
      ],
      "metadata": {
        "id": "J30NrO9HMQHQ"
      }
    },
    {
      "cell_type": "markdown",
      "source": [
        "For Loop:\n",
        "A for loop is commonly used when you know the number of iterations or when you want to iterate over a collection of elements.\n",
        "Example: Printing numbers from 1 to 5 using a for loop in Python.\n"
      ],
      "metadata": {
        "id": "abkxo1ADMS6z"
      }
    },
    {
      "cell_type": "code",
      "source": [
        "for i in range(1, 6):\n",
        "    print(i)\n"
      ],
      "metadata": {
        "colab": {
          "base_uri": "https://localhost:8080/"
        },
        "id": "lM9JZvkIMQvE",
        "outputId": "6118ff6a-468a-42e2-c8da-27bdd885adc3"
      },
      "execution_count": 1,
      "outputs": [
        {
          "output_type": "stream",
          "name": "stdout",
          "text": [
            "1\n",
            "2\n",
            "3\n",
            "4\n",
            "5\n"
          ]
        }
      ]
    },
    {
      "cell_type": "markdown",
      "source": [
        "In this example, we use the range() function to generate a sequence of numbers from 1 to 5. The for loop iterates over each value in the range and prints it.\n",
        "\n",
        "While Loop:\n",
        "A while loop is useful when you want to repeat a block of code until a certain condition is met. It's commonly used when the number of iterations is unknown or depends on some dynamic condition.\n"
      ],
      "metadata": {
        "id": "vTv7JsCBMYdz"
      }
    },
    {
      "cell_type": "code",
      "source": [
        "i = 1\n",
        "while i <= 5:\n",
        "    print(i)\n",
        "    i += 1\n"
      ],
      "metadata": {
        "id": "Jjskwd5HMvVo"
      },
      "execution_count": null,
      "outputs": []
    },
    {
      "cell_type": "markdown",
      "source": [
        "Question 2:"
      ],
      "metadata": {
        "id": "Bu2qMrUXM3Iz"
      }
    },
    {
      "cell_type": "code",
      "source": [
        "sum_for = 0\n",
        "product_for = 1\n",
        "\n",
        "for i in range (1,11):\n",
        " sum_for += i\n",
        " product_for *= i\n",
        "\n",
        "print(\"The sum is\" , sum_for);\n",
        "print(\"the product is\", product_for);\n",
        "\n",
        "sum_while = 0\n",
        "product_while = 1\n",
        "counter = 1\n",
        "\n",
        "\n",
        "while counter <= 10:\n",
        "    sum_while += counter\n",
        "    product_while *= counter\n",
        "    counter += 1\n",
        "\n",
        "print(\"Sum using while loop:\", sum_while)\n",
        "print(\"Product using while loop:\", product_while)"
      ],
      "metadata": {
        "colab": {
          "base_uri": "https://localhost:8080/"
        },
        "id": "Lqq5CZpaM5cU",
        "outputId": "585292c3-045f-4137-fccb-f07b20b2c932"
      },
      "execution_count": 6,
      "outputs": [
        {
          "output_type": "stream",
          "name": "stdout",
          "text": [
            "The sum is 55\n",
            "the product is 3628800\n",
            "Sum using while loop: 55\n",
            "Product using while loop: 3628800\n"
          ]
        }
      ]
    },
    {
      "cell_type": "markdown",
      "source": [
        "question 3:\n"
      ],
      "metadata": {
        "id": "mEXh93auRHSM"
      }
    },
    {
      "cell_type": "code",
      "source": [
        "def house_bill(units):\n",
        "  \n",
        "\n",
        "  if units<=100:\n",
        "   total_bill = units*4.5\n",
        "\n",
        "  elif units<=200:\n",
        "    total_bill = (units-100)*6 + 100*4.5\n",
        "\n",
        "  elif units<300:\n",
        "    total_bill = (units-200)*10 + 100*6 + 100*4.5\n",
        "\n",
        "  elif units>=300:\n",
        "    total_bill = (units-300)*20 + 100*10 + 100*6 + 100*4.5\n",
        "\n",
        "\n",
        "  return total_bill\n",
        "\n",
        "\n",
        "units_used = int(input(\"enter the amount of units: \"))\n",
        "\n",
        "bill_amount = house_bill (units_used)\n",
        "\n",
        "print(\"the total amount of bill is: \", bill_amount)"
      ],
      "metadata": {
        "colab": {
          "base_uri": "https://localhost:8080/"
        },
        "id": "i5QSSvnVRI_k",
        "outputId": "7280f97f-55a6-4025-b88d-48c78f8aebd5"
      },
      "execution_count": 48,
      "outputs": [
        {
          "output_type": "stream",
          "name": "stdout",
          "text": [
            "enter the amount of units: 310\n",
            "the total amount of bill is:  2250.0\n"
          ]
        }
      ]
    },
    {
      "cell_type": "markdown",
      "source": [
        "Question 4:"
      ],
      "metadata": {
        "id": "x1KTcYlkldQm"
      }
    },
    {
      "cell_type": "code",
      "source": [
        "cubes_list = []\n",
        "\n",
        "for num in range(1, 101):\n",
        "    cube = num ** 3\n",
        "    if cube % 4 == 0 or cube % 5 == 0:\n",
        "        cubes_list.append(num)\n",
        "\n",
        "print(\"Using a for loop:\")\n",
        "print(cubes_list)\n",
        "cubes_list = []\n",
        "num = 1\n",
        "\n",
        "while num <= 100:\n",
        "    cube = num ** 3\n",
        "    if cube % 4 == 0 or cube % 5 == 0:\n",
        "        cubes_list.append(num)\n",
        "    num += 1\n",
        "\n",
        "print(\"\\nUsing a while loop:\")\n",
        "print(cubes_list)"
      ],
      "metadata": {
        "colab": {
          "base_uri": "https://localhost:8080/"
        },
        "id": "OMY5FF-dlcVS",
        "outputId": "63370b5a-72d8-4121-8981-bb9f2e17a83f"
      },
      "execution_count": 50,
      "outputs": [
        {
          "output_type": "stream",
          "name": "stdout",
          "text": [
            "Using a for loop:\n",
            "[2, 4, 5, 6, 8, 10, 12, 14, 15, 16, 18, 20, 22, 24, 25, 26, 28, 30, 32, 34, 35, 36, 38, 40, 42, 44, 45, 46, 48, 50, 52, 54, 55, 56, 58, 60, 62, 64, 65, 66, 68, 70, 72, 74, 75, 76, 78, 80, 82, 84, 85, 86, 88, 90, 92, 94, 95, 96, 98, 100]\n",
            "\n",
            "Using a while loop:\n",
            "[2, 4, 5, 6, 8, 10, 12, 14, 15, 16, 18, 20, 22, 24, 25, 26, 28, 30, 32, 34, 35, 36, 38, 40, 42, 44, 45, 46, 48, 50, 52, 54, 55, 56, 58, 60, 62, 64, 65, 66, 68, 70, 72, 74, 75, 76, 78, 80, 82, 84, 85, 86, 88, 90, 92, 94, 95, 96, 98, 100]\n"
          ]
        }
      ]
    },
    {
      "cell_type": "markdown",
      "source": [
        "Question 5:"
      ],
      "metadata": {
        "id": "DNkzNJ2_m1mq"
      }
    },
    {
      "cell_type": "code",
      "source": [
        "string = \"I want to become a data scientist\"\n",
        "vowels = ['a', 'e', 'i', 'o', 'u']\n",
        "count = 0\n",
        "\n",
        "for char in string:\n",
        "    if char.lower() in vowels:\n",
        "        count += 1\n",
        "\n",
        "print(\"Number of vowels in the string:\", count)"
      ],
      "metadata": {
        "colab": {
          "base_uri": "https://localhost:8080/"
        },
        "id": "DBACEPX2m3k_",
        "outputId": "83aceb4a-1485-4a4a-f086-36780192b14c"
      },
      "execution_count": 51,
      "outputs": [
        {
          "output_type": "stream",
          "name": "stdout",
          "text": [
            "Number of vowels in the string: 12\n"
          ]
        }
      ]
    }
  ]
}