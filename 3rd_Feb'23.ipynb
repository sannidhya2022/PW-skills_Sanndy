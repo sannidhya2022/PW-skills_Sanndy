{
  "nbformat": 4,
  "nbformat_minor": 0,
  "metadata": {
    "colab": {
      "provenance": []
    },
    "kernelspec": {
      "name": "python3",
      "display_name": "Python 3"
    },
    "language_info": {
      "name": "python"
    }
  },
  "cells": [
    {
      "cell_type": "markdown",
      "source": [
        "Question 1:"
      ],
      "metadata": {
        "id": "cXLErymUhtCy"
      }
    },
    {
      "cell_type": "markdown",
      "source": [
        "# **def keyword is used to create a function**"
      ],
      "metadata": {
        "id": "j7mGc-Pehvq_"
      }
    },
    {
      "cell_type": "code",
      "execution_count": 32,
      "metadata": {
        "colab": {
          "base_uri": "https://localhost:8080/"
        },
        "id": "IOf5mTdQhpID",
        "outputId": "f58bc605-8c48-487a-e6f2-3b3b86c2cfd2"
      },
      "outputs": [
        {
          "output_type": "stream",
          "name": "stdout",
          "text": [
            "[1, 3, 5, 7, 9, 11, 13, 15, 17, 19, 21, 23]\n"
          ]
        }
      ],
      "source": [
        "def odd_num():\n",
        "  l = []\n",
        "  for i in range (1,25):\n",
        "    if i % 2 != 0:\n",
        "            l.append(i)\n",
        "  return l\n",
        "  \n",
        "list= odd_num()\n",
        "print(list)"
      ]
    },
    {
      "cell_type": "markdown",
      "source": [
        "Question 2:"
      ],
      "metadata": {
        "id": "IYL5M8Oqlmz9"
      }
    },
    {
      "cell_type": "markdown",
      "source": [
        " # We can use *args and **kwargs as arguments of a function when we are unsure about the number of arguments to pass in the functions."
      ],
      "metadata": {
        "id": "0YGofxlbmHB7"
      }
    },
    {
      "cell_type": "code",
      "source": [
        "def sum_numbers(*pw):\n",
        "    total = 0\n",
        "    for num in pw:\n",
        "        total += num\n",
        "    return total\n",
        "\n",
        "result = sum_numbers(1, 2, 3, 4, 5)\n",
        "print(result) "
      ],
      "metadata": {
        "colab": {
          "base_uri": "https://localhost:8080/"
        },
        "id": "Ub2vUBQXnlQI",
        "outputId": "5395695e-08c0-429e-b891-876c66478e93"
      },
      "execution_count": 36,
      "outputs": [
        {
          "output_type": "stream",
          "name": "stdout",
          "text": [
            "15\n"
          ]
        }
      ]
    },
    {
      "cell_type": "code",
      "source": [
        "def display_info(**pw):\n",
        "    for key, value in pw.items():\n",
        "        print(key + \": \" + value)\n",
        "\n",
        "display_info(name=\"Sannidhya\", age=\"20\", city=\"Bhopal\")\n",
        "\n"
      ],
      "metadata": {
        "colab": {
          "base_uri": "https://localhost:8080/"
        },
        "id": "rPr8o7ejonCo",
        "outputId": "ccd92471-3e9f-419d-e3ad-92f7239c4647"
      },
      "execution_count": 35,
      "outputs": [
        {
          "output_type": "stream",
          "name": "stdout",
          "text": [
            "name: Sannidhya\n",
            "age: 20\n",
            "city: Bhopal\n"
          ]
        }
      ]
    },
    {
      "cell_type": "markdown",
      "source": [
        "Question 3:"
      ],
      "metadata": {
        "id": "i10re3rso3Jq"
      }
    },
    {
      "cell_type": "markdown",
      "source": [
        "#An iterator in Python is an object that is used to iterate over iterable objects like lists, tuples, dicts, and sets.Iter() method is used to initialize the iterator object so that the instance of this object can be used for iterating."
      ],
      "metadata": {
        "id": "1Zq7uEajo588"
      }
    },
    {
      "cell_type": "code",
      "source": [
        "my_list = [2, 4, 6, 8, 10, 12, 14, 16, 18, 20]\n",
        "my_iter = iter(my_list)\n",
        "for my_list in range(5):\n",
        "    print(next(my_iter))\n"
      ],
      "metadata": {
        "colab": {
          "base_uri": "https://localhost:8080/"
        },
        "id": "xbg1TizHpeOK",
        "outputId": "abc25bb5-ca0b-4932-ff9e-6035403169c2"
      },
      "execution_count": 37,
      "outputs": [
        {
          "output_type": "stream",
          "name": "stdout",
          "text": [
            "2\n",
            "4\n",
            "6\n",
            "8\n",
            "10\n"
          ]
        }
      ]
    },
    {
      "cell_type": "markdown",
      "source": [
        "Question 4:"
      ],
      "metadata": {
        "id": "5ldDGNdYp9r_"
      }
    },
    {
      "cell_type": "markdown",
      "source": [
        "# Python generator function allows you to declare a function that behaves like an iterator, providing a faster and easier way to create iterators .The yield keyword in Python controls the flow of a generator function. This is similar to a return statement used for returning values in Python."
      ],
      "metadata": {
        "id": "e4-b9crUqJQQ"
      }
    },
    {
      "cell_type": "markdown",
      "source": [
        "#a generator function that generates a sequence of even numbers:"
      ],
      "metadata": {
        "id": "J1CHd0YsqVev"
      }
    },
    {
      "cell_type": "code",
      "source": [
        "def even_numbers(n):\n",
        "    for i in range(n):\n",
        "        if i % 2 == 0:\n",
        "            yield i\n",
        "\n",
        "# Using the generator function\n",
        "generator = even_numbers(10)\n",
        "for num in generator:\n",
        "    print(num)\n"
      ],
      "metadata": {
        "colab": {
          "base_uri": "https://localhost:8080/"
        },
        "id": "mM7T6tgsqWnw",
        "outputId": "d2577c63-71c1-479e-bb92-023f20a75fcb"
      },
      "execution_count": 38,
      "outputs": [
        {
          "output_type": "stream",
          "name": "stdout",
          "text": [
            "0\n",
            "2\n",
            "4\n",
            "6\n",
            "8\n"
          ]
        }
      ]
    },
    {
      "cell_type": "markdown",
      "source": [
        "Question 5:"
      ],
      "metadata": {
        "id": "RgHSTOZwqis4"
      }
    },
    {
      "cell_type": "code",
      "source": [
        "def prime_generator():\n",
        "    primes = []\n",
        "    num = 2\n",
        "    while True:\n",
        "        is_prime = True\n",
        "        for prime in primes:\n",
        "            if num % prime == 0:\n",
        "                is_prime = False\n",
        "                break\n",
        "            if prime * prime > num:\n",
        "                break\n",
        "        if is_prime:\n",
        "            primes.append(num)\n",
        "            yield num\n",
        "        num += 1\n",
        "\n",
        "# Using the generator function\n",
        "generator = prime_generator()\n",
        "for _ in range(20):\n",
        "    prime = next(generator)\n",
        "    print(prime)\n"
      ],
      "metadata": {
        "colab": {
          "base_uri": "https://localhost:8080/"
        },
        "id": "b1ycofNjqidB",
        "outputId": "ebbc0370-7914-4156-f9cd-0af73a5a2da4"
      },
      "execution_count": 42,
      "outputs": [
        {
          "output_type": "stream",
          "name": "stdout",
          "text": [
            "2\n",
            "3\n",
            "5\n",
            "7\n",
            "11\n",
            "13\n",
            "17\n",
            "19\n",
            "23\n",
            "29\n",
            "31\n",
            "37\n",
            "41\n",
            "43\n",
            "47\n",
            "53\n",
            "59\n",
            "61\n",
            "67\n",
            "71\n"
          ]
        }
      ]
    },
    {
      "cell_type": "markdown",
      "source": [
        "Question 6:"
      ],
      "metadata": {
        "id": "3ImzY-KCrvFx"
      }
    },
    {
      "cell_type": "code",
      "source": [
        "num1 = 0\n",
        "num2 = 1\n",
        "count = 0\n",
        "while count < 10:\n",
        "    print(num1)\n",
        "    next_num = num1 + num2\n",
        "    num1 = num2\n",
        "    num2 = next_num\n",
        "    count += 1\n"
      ],
      "metadata": {
        "colab": {
          "base_uri": "https://localhost:8080/"
        },
        "id": "8_1-2e-Prwxn",
        "outputId": "f66d1b2b-53a3-4bec-b79e-f5cf4a1eada3"
      },
      "execution_count": 43,
      "outputs": [
        {
          "output_type": "stream",
          "name": "stdout",
          "text": [
            "0\n",
            "1\n",
            "1\n",
            "2\n",
            "3\n",
            "5\n",
            "8\n",
            "13\n",
            "21\n",
            "34\n"
          ]
        }
      ]
    },
    {
      "cell_type": "markdown",
      "source": [
        "Question 7:"
      ],
      "metadata": {
        "id": "Gmtt0SBx_Nql"
      }
    },
    {
      "cell_type": "code",
      "source": [
        "string = 'pwskills'\n",
        "result = [char for char in string]\n",
        "print(result)\n"
      ],
      "metadata": {
        "colab": {
          "base_uri": "https://localhost:8080/"
        },
        "id": "lg0jmu29_PBH",
        "outputId": "493359e4-b80e-4763-fb44-b763647844c3"
      },
      "execution_count": 44,
      "outputs": [
        {
          "output_type": "stream",
          "name": "stdout",
          "text": [
            "['p', 'w', 's', 'k', 'i', 'l', 'l', 's']\n"
          ]
        }
      ]
    },
    {
      "cell_type": "markdown",
      "source": [
        "Question 8:"
      ],
      "metadata": {
        "id": "nFdCsdCT_lf7"
      }
    },
    {
      "cell_type": "code",
      "source": [
        "def is_palindrome(number):\n",
        "    original_number = number\n",
        "    reversed_number = 0\n",
        "\n",
        "    while number > 0:\n",
        "        digit = number % 10\n",
        "        reversed_number = (reversed_number * 10) + digit\n",
        "        number = number // 10\n",
        "\n",
        "    if original_number == reversed_number:\n",
        "        return True\n",
        "    else:\n",
        "        return False\n",
        "\n",
        "\n",
        "num = int(input(\"Enter a number: \"))\n",
        "\n",
        "if is_palindrome(num):\n",
        "    print(num, \"is a palindrome\")\n",
        "else:\n",
        "    print(num, \"is not a palindrome\")\n"
      ],
      "metadata": {
        "colab": {
          "base_uri": "https://localhost:8080/"
        },
        "id": "1xJK38y0Ab8K",
        "outputId": "13f7a74e-7c2b-4861-afe3-e70163f7015d"
      },
      "execution_count": 45,
      "outputs": [
        {
          "output_type": "stream",
          "name": "stdout",
          "text": [
            "Enter a number: 5\n",
            "5 is a palindrome\n"
          ]
        }
      ]
    },
    {
      "cell_type": "markdown",
      "source": [
        "Question 9:"
      ],
      "metadata": {
        "id": "UNYPsup0GxUp"
      }
    },
    {
      "cell_type": "code",
      "source": [
        "numbers = [num for num in range(1, 101)]\n",
        "\n",
        "odd_numbers = [num for num in numbers if num % 2 != 0]\n",
        "\n",
        "print(odd_numbers)\n"
      ],
      "metadata": {
        "colab": {
          "base_uri": "https://localhost:8080/"
        },
        "id": "G3WO0lC1Gwi0",
        "outputId": "07e06799-b3b9-4466-af32-024b89890a59"
      },
      "execution_count": 46,
      "outputs": [
        {
          "output_type": "stream",
          "name": "stdout",
          "text": [
            "[1, 3, 5, 7, 9, 11, 13, 15, 17, 19, 21, 23, 25, 27, 29, 31, 33, 35, 37, 39, 41, 43, 45, 47, 49, 51, 53, 55, 57, 59, 61, 63, 65, 67, 69, 71, 73, 75, 77, 79, 81, 83, 85, 87, 89, 91, 93, 95, 97, 99]\n"
          ]
        }
      ]
    }
  ]
}